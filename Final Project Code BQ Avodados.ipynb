{
 "cells": [
  {
   "cell_type": "markdown",
   "id": "d6bf12ef-f04f-4848-8dbb-b2c483246f46",
   "metadata": {
    "tags": []
   },
   "source": [
    "# Avocado Toast Final Project"
   ]
  },
  {
   "cell_type": "markdown",
   "id": "de0db2e3-56f2-436b-9a17-f0f891461ade",
   "metadata": {},
   "source": [
    "### Import packages"
   ]
  },
  {
   "cell_type": "code",
   "execution_count": 1,
   "id": "43f13976-3649-41ba-8399-3583608acea3",
   "metadata": {
    "tags": []
   },
   "outputs": [],
   "source": [
    "import pandas as pd\n",
    "import numpy as np\n",
    "import matplotlib.pyplot as plt\n",
    "import seaborn as sns\n",
    "import scipy\n",
    "from scipy import stats\n",
    "from scipy.stats import bartlett, f_oneway, norm, stats\n",
    "from statsmodels.stats.multicomp import pairwise_tukeyhsd, MultiComparison\n",
    "\n",
    "import warnings\n",
    "warnings.filterwarnings(\"ignore\")"
   ]
  },
  {
   "cell_type": "markdown",
   "id": "666ce95d-ee6a-47aa-8235-f6e29e806a3f",
   "metadata": {},
   "source": [
    "### Import data"
   ]
  },
  {
   "cell_type": "code",
   "execution_count": 2,
   "id": "9d4f805f-376d-4fce-9aa7-9aad3f6145d4",
   "metadata": {
    "tags": []
   },
   "outputs": [
    {
     "data": {
      "text/html": [
       "<div>\n",
       "<style scoped>\n",
       "    .dataframe tbody tr th:only-of-type {\n",
       "        vertical-align: middle;\n",
       "    }\n",
       "\n",
       "    .dataframe tbody tr th {\n",
       "        vertical-align: top;\n",
       "    }\n",
       "\n",
       "    .dataframe thead th {\n",
       "        text-align: right;\n",
       "    }\n",
       "</style>\n",
       "<table border=\"1\" class=\"dataframe\">\n",
       "  <thead>\n",
       "    <tr style=\"text-align: right;\">\n",
       "      <th></th>\n",
       "      <th>Date</th>\n",
       "      <th>AveragePrice</th>\n",
       "      <th>Total Volume</th>\n",
       "      <th>4046</th>\n",
       "      <th>4225</th>\n",
       "      <th>4770</th>\n",
       "      <th>Total Bags</th>\n",
       "      <th>Small Bags</th>\n",
       "      <th>Large Bags</th>\n",
       "      <th>XLarge Bags</th>\n",
       "      <th>type</th>\n",
       "      <th>year</th>\n",
       "      <th>region</th>\n",
       "    </tr>\n",
       "  </thead>\n",
       "  <tbody>\n",
       "    <tr>\n",
       "      <th>0</th>\n",
       "      <td>12/27/2015</td>\n",
       "      <td>1.33</td>\n",
       "      <td>64236.62</td>\n",
       "      <td>1036.74</td>\n",
       "      <td>54454.85</td>\n",
       "      <td>48.16</td>\n",
       "      <td>8696.87</td>\n",
       "      <td>8603.62</td>\n",
       "      <td>93.25</td>\n",
       "      <td>0.0</td>\n",
       "      <td>conventional</td>\n",
       "      <td>2015</td>\n",
       "      <td>Albany</td>\n",
       "    </tr>\n",
       "    <tr>\n",
       "      <th>1</th>\n",
       "      <td>12/20/2015</td>\n",
       "      <td>1.35</td>\n",
       "      <td>54876.98</td>\n",
       "      <td>674.28</td>\n",
       "      <td>44638.81</td>\n",
       "      <td>58.33</td>\n",
       "      <td>9505.56</td>\n",
       "      <td>9408.07</td>\n",
       "      <td>97.49</td>\n",
       "      <td>0.0</td>\n",
       "      <td>conventional</td>\n",
       "      <td>2015</td>\n",
       "      <td>Albany</td>\n",
       "    </tr>\n",
       "    <tr>\n",
       "      <th>2</th>\n",
       "      <td>12/13/2015</td>\n",
       "      <td>0.93</td>\n",
       "      <td>118220.22</td>\n",
       "      <td>794.70</td>\n",
       "      <td>109149.67</td>\n",
       "      <td>130.50</td>\n",
       "      <td>8145.35</td>\n",
       "      <td>8042.21</td>\n",
       "      <td>103.14</td>\n",
       "      <td>0.0</td>\n",
       "      <td>conventional</td>\n",
       "      <td>2015</td>\n",
       "      <td>Albany</td>\n",
       "    </tr>\n",
       "    <tr>\n",
       "      <th>3</th>\n",
       "      <td>12/6/2015</td>\n",
       "      <td>1.08</td>\n",
       "      <td>78992.15</td>\n",
       "      <td>1132.00</td>\n",
       "      <td>71976.41</td>\n",
       "      <td>72.58</td>\n",
       "      <td>5811.16</td>\n",
       "      <td>5677.40</td>\n",
       "      <td>133.76</td>\n",
       "      <td>0.0</td>\n",
       "      <td>conventional</td>\n",
       "      <td>2015</td>\n",
       "      <td>Albany</td>\n",
       "    </tr>\n",
       "    <tr>\n",
       "      <th>4</th>\n",
       "      <td>11/29/2015</td>\n",
       "      <td>1.28</td>\n",
       "      <td>51039.60</td>\n",
       "      <td>941.48</td>\n",
       "      <td>43838.39</td>\n",
       "      <td>75.78</td>\n",
       "      <td>6183.95</td>\n",
       "      <td>5986.26</td>\n",
       "      <td>197.69</td>\n",
       "      <td>0.0</td>\n",
       "      <td>conventional</td>\n",
       "      <td>2015</td>\n",
       "      <td>Albany</td>\n",
       "    </tr>\n",
       "  </tbody>\n",
       "</table>\n",
       "</div>"
      ],
      "text/plain": [
       "         Date  AveragePrice  Total Volume     4046       4225    4770  \\\n",
       "0  12/27/2015          1.33      64236.62  1036.74   54454.85   48.16   \n",
       "1  12/20/2015          1.35      54876.98   674.28   44638.81   58.33   \n",
       "2  12/13/2015          0.93     118220.22   794.70  109149.67  130.50   \n",
       "3   12/6/2015          1.08      78992.15  1132.00   71976.41   72.58   \n",
       "4  11/29/2015          1.28      51039.60   941.48   43838.39   75.78   \n",
       "\n",
       "   Total Bags  Small Bags  Large Bags  XLarge Bags          type  year  region  \n",
       "0     8696.87     8603.62       93.25          0.0  conventional  2015  Albany  \n",
       "1     9505.56     9408.07       97.49          0.0  conventional  2015  Albany  \n",
       "2     8145.35     8042.21      103.14          0.0  conventional  2015  Albany  \n",
       "3     5811.16     5677.40      133.76          0.0  conventional  2015  Albany  \n",
       "4     6183.95     5986.26      197.69          0.0  conventional  2015  Albany  "
      ]
     },
     "execution_count": 2,
     "metadata": {},
     "output_type": "execute_result"
    }
   ],
   "source": [
    "avcdo = pd.read_csv('/Users/britfathi/Desktop/DS Final Project/avocados.csv')\n",
    "avcdo = avcdo.iloc[:, 1:]\n",
    "avcdo.head()"
   ]
  },
  {
   "cell_type": "markdown",
   "id": "1f43a975-0fb4-40ea-bc28-9910f49f68d2",
   "metadata": {},
   "source": [
    "## Exploratory Analysis"
   ]
  },
  {
   "cell_type": "code",
   "execution_count": 3,
   "id": "d5081c7e-9b40-43b2-99bf-593bc741283b",
   "metadata": {
    "tags": []
   },
   "outputs": [
    {
     "data": {
      "text/plain": [
       "(18249, 13)"
      ]
     },
     "execution_count": 3,
     "metadata": {},
     "output_type": "execute_result"
    }
   ],
   "source": [
    "avcdo.shape\n",
    "# 13 columns and 18249 rows"
   ]
  },
  {
   "cell_type": "code",
   "execution_count": 4,
   "id": "7687d85e-7947-4aa8-804f-53904edf7606",
   "metadata": {
    "tags": []
   },
   "outputs": [
    {
     "name": "stdout",
     "output_type": "stream",
     "text": [
      "<class 'pandas.core.frame.DataFrame'>\n",
      "RangeIndex: 18249 entries, 0 to 18248\n",
      "Data columns (total 13 columns):\n",
      " #   Column        Non-Null Count  Dtype  \n",
      "---  ------        --------------  -----  \n",
      " 0   Date          18249 non-null  object \n",
      " 1   AveragePrice  18249 non-null  float64\n",
      " 2   Total Volume  18249 non-null  float64\n",
      " 3   4046          18249 non-null  float64\n",
      " 4   4225          18249 non-null  float64\n",
      " 5   4770          18249 non-null  float64\n",
      " 6   Total Bags    18249 non-null  float64\n",
      " 7   Small Bags    18249 non-null  float64\n",
      " 8   Large Bags    18249 non-null  float64\n",
      " 9   XLarge Bags   18249 non-null  float64\n",
      " 10  type          18249 non-null  object \n",
      " 11  year          18249 non-null  int64  \n",
      " 12  region        18249 non-null  object \n",
      "dtypes: float64(9), int64(1), object(3)\n",
      "memory usage: 1.8+ MB\n"
     ]
    }
   ],
   "source": [
    "avcdo.info()    \n",
    "\n",
    "# There are no null values\n",
    "# Only the year is an int64. \n",
    "# Date is an object\n",
    "# Type and region are objects\n",
    "# All other variables are floats"
   ]
  },
  {
   "cell_type": "code",
   "execution_count": 5,
   "id": "9fcb6666-f3fa-46ae-8f64-8eeea1104dbc",
   "metadata": {
    "tags": []
   },
   "outputs": [
    {
     "data": {
      "text/plain": [
       "Albany                 338\n",
       "Sacramento             338\n",
       "Northeast              338\n",
       "NorthernNewEngland     338\n",
       "Orlando                338\n",
       "Philadelphia           338\n",
       "PhoenixTucson          338\n",
       "Pittsburgh             338\n",
       "Plains                 338\n",
       "Portland               338\n",
       "RaleighGreensboro      338\n",
       "RichmondNorfolk        338\n",
       "Roanoke                338\n",
       "SanDiego               338\n",
       "Atlanta                338\n",
       "SanFrancisco           338\n",
       "Seattle                338\n",
       "SouthCarolina          338\n",
       "SouthCentral           338\n",
       "Southeast              338\n",
       "Spokane                338\n",
       "StLouis                338\n",
       "Syracuse               338\n",
       "Tampa                  338\n",
       "TotalUS                338\n",
       "West                   338\n",
       "NewYork                338\n",
       "NewOrleansMobile       338\n",
       "Nashville              338\n",
       "Midsouth               338\n",
       "BaltimoreWashington    338\n",
       "Boise                  338\n",
       "Boston                 338\n",
       "BuffaloRochester       338\n",
       "California             338\n",
       "Charlotte              338\n",
       "Chicago                338\n",
       "CincinnatiDayton       338\n",
       "Columbus               338\n",
       "DallasFtWorth          338\n",
       "Denver                 338\n",
       "Detroit                338\n",
       "GrandRapids            338\n",
       "GreatLakes             338\n",
       "HarrisburgScranton     338\n",
       "HartfordSpringfield    338\n",
       "Houston                338\n",
       "Indianapolis           338\n",
       "Jacksonville           338\n",
       "LasVegas               338\n",
       "LosAngeles             338\n",
       "Louisville             338\n",
       "MiamiFtLauderdale      338\n",
       "WestTexNewMexico       335\n",
       "Name: region, dtype: int64"
      ]
     },
     "execution_count": 5,
     "metadata": {},
     "output_type": "execute_result"
    }
   ],
   "source": [
    "avcdo.region.value_counts()  \n",
    "# TotalUS is one of the variabless, \n",
    "# Each of the ordinal regions: Northeast, Southeast, SouthCentral, West, \n",
    "    # Midsouth, GreatLakes, NorthernNewEngland\n",
    "# Most are just cities, states, or metropolitan areas. "
   ]
  },
  {
   "cell_type": "code",
   "execution_count": 6,
   "id": "0101a99f-deca-4aec-a592-b58f2e4d96ad",
   "metadata": {
    "tags": []
   },
   "outputs": [
    {
     "data": {
      "text/plain": [
       "count      18249\n",
       "unique        54\n",
       "top       Albany\n",
       "freq         338\n",
       "Name: region, dtype: object"
      ]
     },
     "execution_count": 6,
     "metadata": {},
     "output_type": "execute_result"
    }
   ],
   "source": [
    "avcdo.region.describe()  \n",
    "# 54 regions, with several of them overlapping. "
   ]
  },
  {
   "cell_type": "code",
   "execution_count": 7,
   "id": "df381267-cab0-499e-8b4f-f6fcc47f2623",
   "metadata": {
    "tags": []
   },
   "outputs": [
    {
     "data": {
      "text/plain": [
       "count    18249.000000\n",
       "mean         1.405978\n",
       "std          0.402677\n",
       "min          0.440000\n",
       "25%          1.100000\n",
       "50%          1.370000\n",
       "75%          1.660000\n",
       "max          3.250000\n",
       "Name: AveragePrice, dtype: float64"
      ]
     },
     "execution_count": 7,
     "metadata": {},
     "output_type": "execute_result"
    }
   ],
   "source": [
    "avcdo.AveragePrice.describe()\n",
    "# Considering one of the variables from region shows some of this data is for the TotalUS, \n",
    "    #I can see that this data would be pushed toward a center more than if and \n",
    "    # the regions were not counted, pushing it toward a center."
   ]
  },
  {
   "cell_type": "code",
   "execution_count": 8,
   "id": "581ebc51-14cf-4116-9271-fa7e28217921",
   "metadata": {
    "tags": []
   },
   "outputs": [
    {
     "data": {
      "text/plain": [
       "conventional    9126\n",
       "organic         9123\n",
       "Name: type, dtype: int64"
      ]
     },
     "execution_count": 8,
     "metadata": {},
     "output_type": "execute_result"
    }
   ],
   "source": [
    "avcdo.type.value_counts()\n",
    "#\n"
   ]
  },
  {
   "cell_type": "code",
   "execution_count": 9,
   "id": "45bc1a60-6def-4534-9af4-62876bb096b6",
   "metadata": {
    "tags": []
   },
   "outputs": [
    {
     "data": {
      "text/html": [
       "<div>\n",
       "<style scoped>\n",
       "    .dataframe tbody tr th:only-of-type {\n",
       "        vertical-align: middle;\n",
       "    }\n",
       "\n",
       "    .dataframe tbody tr th {\n",
       "        vertical-align: top;\n",
       "    }\n",
       "\n",
       "    .dataframe thead th {\n",
       "        text-align: right;\n",
       "    }\n",
       "</style>\n",
       "<table border=\"1\" class=\"dataframe\">\n",
       "  <thead>\n",
       "    <tr style=\"text-align: right;\">\n",
       "      <th></th>\n",
       "      <th>AveragePrice</th>\n",
       "      <th>Total Volume</th>\n",
       "      <th>4046</th>\n",
       "      <th>4225</th>\n",
       "      <th>4770</th>\n",
       "      <th>Total Bags</th>\n",
       "      <th>Small Bags</th>\n",
       "      <th>Large Bags</th>\n",
       "      <th>XLarge Bags</th>\n",
       "      <th>year</th>\n",
       "    </tr>\n",
       "  </thead>\n",
       "  <tbody>\n",
       "    <tr>\n",
       "      <th>count</th>\n",
       "      <td>18249.0</td>\n",
       "      <td>18249.0</td>\n",
       "      <td>18249.0</td>\n",
       "      <td>18249.0</td>\n",
       "      <td>18249.0</td>\n",
       "      <td>18249.0</td>\n",
       "      <td>18249.0</td>\n",
       "      <td>18249.0</td>\n",
       "      <td>18249.0</td>\n",
       "      <td>18249.0</td>\n",
       "    </tr>\n",
       "    <tr>\n",
       "      <th>mean</th>\n",
       "      <td>1.0</td>\n",
       "      <td>850644.0</td>\n",
       "      <td>293008.0</td>\n",
       "      <td>295155.0</td>\n",
       "      <td>22840.0</td>\n",
       "      <td>239639.0</td>\n",
       "      <td>182195.0</td>\n",
       "      <td>54338.0</td>\n",
       "      <td>3106.0</td>\n",
       "      <td>2016.0</td>\n",
       "    </tr>\n",
       "    <tr>\n",
       "      <th>std</th>\n",
       "      <td>0.0</td>\n",
       "      <td>3453545.0</td>\n",
       "      <td>1264989.0</td>\n",
       "      <td>1204120.0</td>\n",
       "      <td>107464.0</td>\n",
       "      <td>986242.0</td>\n",
       "      <td>746179.0</td>\n",
       "      <td>243966.0</td>\n",
       "      <td>17693.0</td>\n",
       "      <td>1.0</td>\n",
       "    </tr>\n",
       "    <tr>\n",
       "      <th>min</th>\n",
       "      <td>0.0</td>\n",
       "      <td>85.0</td>\n",
       "      <td>0.0</td>\n",
       "      <td>0.0</td>\n",
       "      <td>0.0</td>\n",
       "      <td>0.0</td>\n",
       "      <td>0.0</td>\n",
       "      <td>0.0</td>\n",
       "      <td>0.0</td>\n",
       "      <td>2015.0</td>\n",
       "    </tr>\n",
       "    <tr>\n",
       "      <th>25%</th>\n",
       "      <td>1.0</td>\n",
       "      <td>10839.0</td>\n",
       "      <td>854.0</td>\n",
       "      <td>3009.0</td>\n",
       "      <td>0.0</td>\n",
       "      <td>5089.0</td>\n",
       "      <td>2849.0</td>\n",
       "      <td>127.0</td>\n",
       "      <td>0.0</td>\n",
       "      <td>2015.0</td>\n",
       "    </tr>\n",
       "    <tr>\n",
       "      <th>50%</th>\n",
       "      <td>1.0</td>\n",
       "      <td>107377.0</td>\n",
       "      <td>8645.0</td>\n",
       "      <td>29061.0</td>\n",
       "      <td>185.0</td>\n",
       "      <td>39744.0</td>\n",
       "      <td>26363.0</td>\n",
       "      <td>2648.0</td>\n",
       "      <td>0.0</td>\n",
       "      <td>2016.0</td>\n",
       "    </tr>\n",
       "    <tr>\n",
       "      <th>75%</th>\n",
       "      <td>2.0</td>\n",
       "      <td>432962.0</td>\n",
       "      <td>111020.0</td>\n",
       "      <td>150207.0</td>\n",
       "      <td>6243.0</td>\n",
       "      <td>110783.0</td>\n",
       "      <td>83338.0</td>\n",
       "      <td>22029.0</td>\n",
       "      <td>132.0</td>\n",
       "      <td>2017.0</td>\n",
       "    </tr>\n",
       "    <tr>\n",
       "      <th>max</th>\n",
       "      <td>3.0</td>\n",
       "      <td>62505647.0</td>\n",
       "      <td>22743616.0</td>\n",
       "      <td>20470573.0</td>\n",
       "      <td>2546439.0</td>\n",
       "      <td>19373134.0</td>\n",
       "      <td>13384587.0</td>\n",
       "      <td>5719097.0</td>\n",
       "      <td>551694.0</td>\n",
       "      <td>2018.0</td>\n",
       "    </tr>\n",
       "  </tbody>\n",
       "</table>\n",
       "</div>"
      ],
      "text/plain": [
       "       AveragePrice  Total Volume        4046        4225       4770  \\\n",
       "count       18249.0       18249.0     18249.0     18249.0    18249.0   \n",
       "mean            1.0      850644.0    293008.0    295155.0    22840.0   \n",
       "std             0.0     3453545.0   1264989.0   1204120.0   107464.0   \n",
       "min             0.0          85.0         0.0         0.0        0.0   \n",
       "25%             1.0       10839.0       854.0      3009.0        0.0   \n",
       "50%             1.0      107377.0      8645.0     29061.0      185.0   \n",
       "75%             2.0      432962.0    111020.0    150207.0     6243.0   \n",
       "max             3.0    62505647.0  22743616.0  20470573.0  2546439.0   \n",
       "\n",
       "       Total Bags  Small Bags  Large Bags  XLarge Bags     year  \n",
       "count     18249.0     18249.0     18249.0      18249.0  18249.0  \n",
       "mean     239639.0    182195.0     54338.0       3106.0   2016.0  \n",
       "std      986242.0    746179.0    243966.0      17693.0      1.0  \n",
       "min           0.0         0.0         0.0          0.0   2015.0  \n",
       "25%        5089.0      2849.0       127.0          0.0   2015.0  \n",
       "50%       39744.0     26363.0      2648.0          0.0   2016.0  \n",
       "75%      110783.0     83338.0     22029.0        132.0   2017.0  \n",
       "max    19373134.0  13384587.0   5719097.0     551694.0   2018.0  "
      ]
     },
     "execution_count": 9,
     "metadata": {},
     "output_type": "execute_result"
    }
   ],
   "source": [
    "avcdo.describe().round(0)\n",
    "\n",
    "# For sure the float64 values are indeed numbers and can be statistically analyzed. \n",
    "# We have the mean, standard deviation, and other info about all numeric variables. "
   ]
  },
  {
   "cell_type": "markdown",
   "id": "05f8048a",
   "metadata": {},
   "source": [
    "# Does the price of avocados sold differ between Denver, LosAngeles, and Chicago?"
   ]
  },
  {
   "cell_type": "markdown",
   "id": "6c483127-3e58-49f2-8093-98eae9640869",
   "metadata": {},
   "source": [
    "## Data Wrangling for question about price and volume. "
   ]
  },
  {
   "cell_type": "markdown",
   "id": "8183cbd6",
   "metadata": {},
   "source": [
    "### Selecting a city by the ocean, in the mountains, and in the midwest. "
   ]
  },
  {
   "cell_type": "code",
   "execution_count": 10,
   "id": "741db893-c5a9-4159-aade-11803cf706fa",
   "metadata": {
    "tags": []
   },
   "outputs": [
    {
     "data": {
      "text/html": [
       "<div>\n",
       "<style scoped>\n",
       "    .dataframe tbody tr th:only-of-type {\n",
       "        vertical-align: middle;\n",
       "    }\n",
       "\n",
       "    .dataframe tbody tr th {\n",
       "        vertical-align: top;\n",
       "    }\n",
       "\n",
       "    .dataframe thead th {\n",
       "        text-align: right;\n",
       "    }\n",
       "</style>\n",
       "<table border=\"1\" class=\"dataframe\">\n",
       "  <thead>\n",
       "    <tr style=\"text-align: right;\">\n",
       "      <th></th>\n",
       "      <th>Date</th>\n",
       "      <th>AveragePrice</th>\n",
       "      <th>Total Volume</th>\n",
       "      <th>4046</th>\n",
       "      <th>4225</th>\n",
       "      <th>4770</th>\n",
       "      <th>Total Bags</th>\n",
       "      <th>Small Bags</th>\n",
       "      <th>Large Bags</th>\n",
       "      <th>XLarge Bags</th>\n",
       "      <th>type</th>\n",
       "      <th>year</th>\n",
       "      <th>region</th>\n",
       "    </tr>\n",
       "  </thead>\n",
       "  <tbody>\n",
       "    <tr>\n",
       "      <th>416</th>\n",
       "      <td>12/27/2015</td>\n",
       "      <td>0.93</td>\n",
       "      <td>661137.13</td>\n",
       "      <td>42799.00</td>\n",
       "      <td>445218.79</td>\n",
       "      <td>78378.25</td>\n",
       "      <td>94741.09</td>\n",
       "      <td>83066.75</td>\n",
       "      <td>1617.67</td>\n",
       "      <td>10056.67</td>\n",
       "      <td>conventional</td>\n",
       "      <td>2015</td>\n",
       "      <td>Chicago</td>\n",
       "    </tr>\n",
       "    <tr>\n",
       "      <th>417</th>\n",
       "      <td>12/20/2015</td>\n",
       "      <td>0.91</td>\n",
       "      <td>690669.34</td>\n",
       "      <td>35724.99</td>\n",
       "      <td>464574.15</td>\n",
       "      <td>96306.30</td>\n",
       "      <td>94063.90</td>\n",
       "      <td>76241.25</td>\n",
       "      <td>9592.65</td>\n",
       "      <td>8230.00</td>\n",
       "      <td>conventional</td>\n",
       "      <td>2015</td>\n",
       "      <td>Chicago</td>\n",
       "    </tr>\n",
       "    <tr>\n",
       "      <th>418</th>\n",
       "      <td>12/13/2015</td>\n",
       "      <td>1.07</td>\n",
       "      <td>668601.50</td>\n",
       "      <td>40380.09</td>\n",
       "      <td>451470.42</td>\n",
       "      <td>94162.53</td>\n",
       "      <td>82588.46</td>\n",
       "      <td>76829.42</td>\n",
       "      <td>5693.75</td>\n",
       "      <td>65.29</td>\n",
       "      <td>conventional</td>\n",
       "      <td>2015</td>\n",
       "      <td>Chicago</td>\n",
       "    </tr>\n",
       "    <tr>\n",
       "      <th>419</th>\n",
       "      <td>12/6/2015</td>\n",
       "      <td>1.14</td>\n",
       "      <td>664020.49</td>\n",
       "      <td>53173.18</td>\n",
       "      <td>455048.11</td>\n",
       "      <td>92888.37</td>\n",
       "      <td>62910.83</td>\n",
       "      <td>62473.12</td>\n",
       "      <td>420.95</td>\n",
       "      <td>16.76</td>\n",
       "      <td>conventional</td>\n",
       "      <td>2015</td>\n",
       "      <td>Chicago</td>\n",
       "    </tr>\n",
       "    <tr>\n",
       "      <th>420</th>\n",
       "      <td>11/29/2015</td>\n",
       "      <td>1.11</td>\n",
       "      <td>602481.22</td>\n",
       "      <td>42851.47</td>\n",
       "      <td>422479.32</td>\n",
       "      <td>74988.97</td>\n",
       "      <td>62161.46</td>\n",
       "      <td>61862.57</td>\n",
       "      <td>298.89</td>\n",
       "      <td>0.00</td>\n",
       "      <td>conventional</td>\n",
       "      <td>2015</td>\n",
       "      <td>Chicago</td>\n",
       "    </tr>\n",
       "  </tbody>\n",
       "</table>\n",
       "</div>"
      ],
      "text/plain": [
       "           Date  AveragePrice  Total Volume      4046       4225      4770  \\\n",
       "416  12/27/2015          0.93     661137.13  42799.00  445218.79  78378.25   \n",
       "417  12/20/2015          0.91     690669.34  35724.99  464574.15  96306.30   \n",
       "418  12/13/2015          1.07     668601.50  40380.09  451470.42  94162.53   \n",
       "419   12/6/2015          1.14     664020.49  53173.18  455048.11  92888.37   \n",
       "420  11/29/2015          1.11     602481.22  42851.47  422479.32  74988.97   \n",
       "\n",
       "     Total Bags  Small Bags  Large Bags  XLarge Bags          type  year  \\\n",
       "416    94741.09    83066.75     1617.67     10056.67  conventional  2015   \n",
       "417    94063.90    76241.25     9592.65      8230.00  conventional  2015   \n",
       "418    82588.46    76829.42     5693.75        65.29  conventional  2015   \n",
       "419    62910.83    62473.12      420.95        16.76  conventional  2015   \n",
       "420    62161.46    61862.57      298.89         0.00  conventional  2015   \n",
       "\n",
       "      region  \n",
       "416  Chicago  \n",
       "417  Chicago  \n",
       "418  Chicago  \n",
       "419  Chicago  \n",
       "420  Chicago  "
      ]
     },
     "execution_count": 10,
     "metadata": {},
     "output_type": "execute_result"
    }
   ],
   "source": [
    "df1 = avcdo[avcdo.region.isin(['Denver', 'LosAngeles', 'Chicago'])]\n",
    "\n",
    "df1.head()"
   ]
  },
  {
   "cell_type": "code",
   "execution_count": 11,
   "id": "7bb2145a-03ee-4620-99ad-7900f2378ed0",
   "metadata": {
    "tags": []
   },
   "outputs": [
    {
     "data": {
      "text/html": [
       "<div>\n",
       "<style scoped>\n",
       "    .dataframe tbody tr th:only-of-type {\n",
       "        vertical-align: middle;\n",
       "    }\n",
       "\n",
       "    .dataframe tbody tr th {\n",
       "        vertical-align: top;\n",
       "    }\n",
       "\n",
       "    .dataframe thead th {\n",
       "        text-align: right;\n",
       "    }\n",
       "</style>\n",
       "<table border=\"1\" class=\"dataframe\">\n",
       "  <thead>\n",
       "    <tr style=\"text-align: right;\">\n",
       "      <th></th>\n",
       "      <th>AveragePrice</th>\n",
       "      <th>Total Volume</th>\n",
       "      <th>4046</th>\n",
       "      <th>4225</th>\n",
       "      <th>4770</th>\n",
       "      <th>Total Bags</th>\n",
       "      <th>Small Bags</th>\n",
       "      <th>Large Bags</th>\n",
       "      <th>XLarge Bags</th>\n",
       "      <th>year</th>\n",
       "    </tr>\n",
       "  </thead>\n",
       "  <tbody>\n",
       "    <tr>\n",
       "      <th>count</th>\n",
       "      <td>1014.0</td>\n",
       "      <td>1014.0</td>\n",
       "      <td>1014.0</td>\n",
       "      <td>1014.0</td>\n",
       "      <td>1014.0</td>\n",
       "      <td>1014.0</td>\n",
       "      <td>1014.0</td>\n",
       "      <td>1014.0</td>\n",
       "      <td>1014.0</td>\n",
       "      <td>1014.0</td>\n",
       "    </tr>\n",
       "    <tr>\n",
       "      <th>mean</th>\n",
       "      <td>1.0</td>\n",
       "      <td>769725.0</td>\n",
       "      <td>257547.0</td>\n",
       "      <td>235672.0</td>\n",
       "      <td>35789.0</td>\n",
       "      <td>240717.0</td>\n",
       "      <td>186671.0</td>\n",
       "      <td>49602.0</td>\n",
       "      <td>4444.0</td>\n",
       "      <td>2016.0</td>\n",
       "    </tr>\n",
       "    <tr>\n",
       "      <th>std</th>\n",
       "      <td>0.0</td>\n",
       "      <td>1052234.0</td>\n",
       "      <td>511505.0</td>\n",
       "      <td>257965.0</td>\n",
       "      <td>48526.0</td>\n",
       "      <td>398746.0</td>\n",
       "      <td>367265.0</td>\n",
       "      <td>103053.0</td>\n",
       "      <td>11388.0</td>\n",
       "      <td>1.0</td>\n",
       "    </tr>\n",
       "    <tr>\n",
       "      <th>min</th>\n",
       "      <td>1.0</td>\n",
       "      <td>6555.0</td>\n",
       "      <td>22.0</td>\n",
       "      <td>236.0</td>\n",
       "      <td>0.0</td>\n",
       "      <td>33.0</td>\n",
       "      <td>0.0</td>\n",
       "      <td>0.0</td>\n",
       "      <td>0.0</td>\n",
       "      <td>2015.0</td>\n",
       "    </tr>\n",
       "    <tr>\n",
       "      <th>25%</th>\n",
       "      <td>1.0</td>\n",
       "      <td>36173.0</td>\n",
       "      <td>8066.0</td>\n",
       "      <td>19732.0</td>\n",
       "      <td>0.0</td>\n",
       "      <td>11307.0</td>\n",
       "      <td>7369.0</td>\n",
       "      <td>56.0</td>\n",
       "      <td>0.0</td>\n",
       "      <td>2015.0</td>\n",
       "    </tr>\n",
       "    <tr>\n",
       "      <th>50%</th>\n",
       "      <td>1.0</td>\n",
       "      <td>302430.0</td>\n",
       "      <td>26000.0</td>\n",
       "      <td>109324.0</td>\n",
       "      <td>273.0</td>\n",
       "      <td>71748.0</td>\n",
       "      <td>55969.0</td>\n",
       "      <td>3636.0</td>\n",
       "      <td>0.0</td>\n",
       "      <td>2016.0</td>\n",
       "    </tr>\n",
       "    <tr>\n",
       "      <th>75%</th>\n",
       "      <td>2.0</td>\n",
       "      <td>847143.0</td>\n",
       "      <td>146102.0</td>\n",
       "      <td>440391.0</td>\n",
       "      <td>76949.0</td>\n",
       "      <td>301606.0</td>\n",
       "      <td>102594.0</td>\n",
       "      <td>33396.0</td>\n",
       "      <td>1464.0</td>\n",
       "      <td>2017.0</td>\n",
       "    </tr>\n",
       "    <tr>\n",
       "      <th>max</th>\n",
       "      <td>2.0</td>\n",
       "      <td>5470227.0</td>\n",
       "      <td>2914047.0</td>\n",
       "      <td>1447534.0</td>\n",
       "      <td>224554.0</td>\n",
       "      <td>2701610.0</td>\n",
       "      <td>2656630.0</td>\n",
       "      <td>706053.0</td>\n",
       "      <td>61317.0</td>\n",
       "      <td>2018.0</td>\n",
       "    </tr>\n",
       "  </tbody>\n",
       "</table>\n",
       "</div>"
      ],
      "text/plain": [
       "       AveragePrice  Total Volume       4046       4225      4770  Total Bags  \\\n",
       "count        1014.0        1014.0     1014.0     1014.0    1014.0      1014.0   \n",
       "mean            1.0      769725.0   257547.0   235672.0   35789.0    240717.0   \n",
       "std             0.0     1052234.0   511505.0   257965.0   48526.0    398746.0   \n",
       "min             1.0        6555.0       22.0      236.0       0.0        33.0   \n",
       "25%             1.0       36173.0     8066.0    19732.0       0.0     11307.0   \n",
       "50%             1.0      302430.0    26000.0   109324.0     273.0     71748.0   \n",
       "75%             2.0      847143.0   146102.0   440391.0   76949.0    301606.0   \n",
       "max             2.0     5470227.0  2914047.0  1447534.0  224554.0   2701610.0   \n",
       "\n",
       "       Small Bags  Large Bags  XLarge Bags    year  \n",
       "count      1014.0      1014.0       1014.0  1014.0  \n",
       "mean     186671.0     49602.0       4444.0  2016.0  \n",
       "std      367265.0    103053.0      11388.0     1.0  \n",
       "min           0.0         0.0          0.0  2015.0  \n",
       "25%        7369.0        56.0          0.0  2015.0  \n",
       "50%       55969.0      3636.0          0.0  2016.0  \n",
       "75%      102594.0     33396.0       1464.0  2017.0  \n",
       "max     2656630.0    706053.0      61317.0  2018.0  "
      ]
     },
     "execution_count": 11,
     "metadata": {},
     "output_type": "execute_result"
    }
   ],
   "source": [
    "df1.describe().round()\n",
    "\n",
    "# Makes more sense as true data when all of the other data is mixed with duplicates/redundancies."
   ]
  },
  {
   "cell_type": "markdown",
   "id": "5c0b7465-1ed0-44bb-8901-33631521c827",
   "metadata": {},
   "source": [
    "### Recode cities as numbers (the categorical data)"
   ]
  },
  {
   "cell_type": "code",
   "execution_count": 12,
   "id": "225a50b3-17a6-44d3-9b5e-628fa51c6737",
   "metadata": {
    "tags": []
   },
   "outputs": [],
   "source": [
    "dict = {'Denver' : 0, 'LosAngeles' : 1, 'Chicago': 2}"
   ]
  },
  {
   "cell_type": "code",
   "execution_count": 13,
   "id": "26acc2c7-b82b-4d5a-a18c-9413eb28e51a",
   "metadata": {
    "tags": []
   },
   "outputs": [],
   "source": [
    "df1['region'] = df1.region.replace(dict)\n",
    "# I decided not to add in another column because I didn't feel it was necessary \n",
    "# bc this is not the original dataset anyhow... "
   ]
  },
  {
   "cell_type": "code",
   "execution_count": 14,
   "id": "1048c050-631b-44e7-9948-cb7567eddc36",
   "metadata": {
    "tags": []
   },
   "outputs": [
    {
     "data": {
      "text/html": [
       "<div>\n",
       "<style scoped>\n",
       "    .dataframe tbody tr th:only-of-type {\n",
       "        vertical-align: middle;\n",
       "    }\n",
       "\n",
       "    .dataframe tbody tr th {\n",
       "        vertical-align: top;\n",
       "    }\n",
       "\n",
       "    .dataframe thead th {\n",
       "        text-align: right;\n",
       "    }\n",
       "</style>\n",
       "<table border=\"1\" class=\"dataframe\">\n",
       "  <thead>\n",
       "    <tr style=\"text-align: right;\">\n",
       "      <th></th>\n",
       "      <th>Date</th>\n",
       "      <th>AveragePrice</th>\n",
       "      <th>Total Volume</th>\n",
       "      <th>4046</th>\n",
       "      <th>4225</th>\n",
       "      <th>4770</th>\n",
       "      <th>Total Bags</th>\n",
       "      <th>Small Bags</th>\n",
       "      <th>Large Bags</th>\n",
       "      <th>XLarge Bags</th>\n",
       "      <th>type</th>\n",
       "      <th>year</th>\n",
       "      <th>region</th>\n",
       "    </tr>\n",
       "  </thead>\n",
       "  <tbody>\n",
       "    <tr>\n",
       "      <th>416</th>\n",
       "      <td>12/27/2015</td>\n",
       "      <td>0.93</td>\n",
       "      <td>661137.13</td>\n",
       "      <td>42799.00</td>\n",
       "      <td>445218.79</td>\n",
       "      <td>78378.25</td>\n",
       "      <td>94741.09</td>\n",
       "      <td>83066.75</td>\n",
       "      <td>1617.67</td>\n",
       "      <td>10056.67</td>\n",
       "      <td>conventional</td>\n",
       "      <td>2015</td>\n",
       "      <td>2</td>\n",
       "    </tr>\n",
       "    <tr>\n",
       "      <th>417</th>\n",
       "      <td>12/20/2015</td>\n",
       "      <td>0.91</td>\n",
       "      <td>690669.34</td>\n",
       "      <td>35724.99</td>\n",
       "      <td>464574.15</td>\n",
       "      <td>96306.30</td>\n",
       "      <td>94063.90</td>\n",
       "      <td>76241.25</td>\n",
       "      <td>9592.65</td>\n",
       "      <td>8230.00</td>\n",
       "      <td>conventional</td>\n",
       "      <td>2015</td>\n",
       "      <td>2</td>\n",
       "    </tr>\n",
       "    <tr>\n",
       "      <th>418</th>\n",
       "      <td>12/13/2015</td>\n",
       "      <td>1.07</td>\n",
       "      <td>668601.50</td>\n",
       "      <td>40380.09</td>\n",
       "      <td>451470.42</td>\n",
       "      <td>94162.53</td>\n",
       "      <td>82588.46</td>\n",
       "      <td>76829.42</td>\n",
       "      <td>5693.75</td>\n",
       "      <td>65.29</td>\n",
       "      <td>conventional</td>\n",
       "      <td>2015</td>\n",
       "      <td>2</td>\n",
       "    </tr>\n",
       "    <tr>\n",
       "      <th>419</th>\n",
       "      <td>12/6/2015</td>\n",
       "      <td>1.14</td>\n",
       "      <td>664020.49</td>\n",
       "      <td>53173.18</td>\n",
       "      <td>455048.11</td>\n",
       "      <td>92888.37</td>\n",
       "      <td>62910.83</td>\n",
       "      <td>62473.12</td>\n",
       "      <td>420.95</td>\n",
       "      <td>16.76</td>\n",
       "      <td>conventional</td>\n",
       "      <td>2015</td>\n",
       "      <td>2</td>\n",
       "    </tr>\n",
       "    <tr>\n",
       "      <th>420</th>\n",
       "      <td>11/29/2015</td>\n",
       "      <td>1.11</td>\n",
       "      <td>602481.22</td>\n",
       "      <td>42851.47</td>\n",
       "      <td>422479.32</td>\n",
       "      <td>74988.97</td>\n",
       "      <td>62161.46</td>\n",
       "      <td>61862.57</td>\n",
       "      <td>298.89</td>\n",
       "      <td>0.00</td>\n",
       "      <td>conventional</td>\n",
       "      <td>2015</td>\n",
       "      <td>2</td>\n",
       "    </tr>\n",
       "  </tbody>\n",
       "</table>\n",
       "</div>"
      ],
      "text/plain": [
       "           Date  AveragePrice  Total Volume      4046       4225      4770  \\\n",
       "416  12/27/2015          0.93     661137.13  42799.00  445218.79  78378.25   \n",
       "417  12/20/2015          0.91     690669.34  35724.99  464574.15  96306.30   \n",
       "418  12/13/2015          1.07     668601.50  40380.09  451470.42  94162.53   \n",
       "419   12/6/2015          1.14     664020.49  53173.18  455048.11  92888.37   \n",
       "420  11/29/2015          1.11     602481.22  42851.47  422479.32  74988.97   \n",
       "\n",
       "     Total Bags  Small Bags  Large Bags  XLarge Bags          type  year  \\\n",
       "416    94741.09    83066.75     1617.67     10056.67  conventional  2015   \n",
       "417    94063.90    76241.25     9592.65      8230.00  conventional  2015   \n",
       "418    82588.46    76829.42     5693.75        65.29  conventional  2015   \n",
       "419    62910.83    62473.12      420.95        16.76  conventional  2015   \n",
       "420    62161.46    61862.57      298.89         0.00  conventional  2015   \n",
       "\n",
       "     region  \n",
       "416       2  \n",
       "417       2  \n",
       "418       2  \n",
       "419       2  \n",
       "420       2  "
      ]
     },
     "execution_count": 14,
     "metadata": {},
     "output_type": "execute_result"
    }
   ],
   "source": [
    "df1.head()"
   ]
  },
  {
   "cell_type": "code",
   "execution_count": 15,
   "id": "5cb0b4c0-f334-4324-b78d-6042ff98b6c7",
   "metadata": {
    "tags": []
   },
   "outputs": [
    {
     "data": {
      "text/plain": [
       "2    338\n",
       "0    338\n",
       "1    338\n",
       "Name: region, dtype: int64"
      ]
     },
     "execution_count": 15,
     "metadata": {},
     "output_type": "execute_result"
    }
   ],
   "source": [
    "df1.region.value_counts()\n",
    "# Still the same as when they were names of cities. "
   ]
  },
  {
   "cell_type": "markdown",
   "id": "87aca385",
   "metadata": {},
   "source": [
    "## -> All datasets and subsets of the data we use have a sample size > 20"
   ]
  },
  {
   "cell_type": "markdown",
   "id": "8ccce61c",
   "metadata": {},
   "source": [
    "## -> There is no overlap between our groups because I selected cities that are far apart. "
   ]
  },
  {
   "cell_type": "markdown",
   "id": "d639d8f4",
   "metadata": {},
   "source": [
    "## Test Normality and transformations on AveragePrice"
   ]
  },
  {
   "cell_type": "code",
   "execution_count": 16,
   "id": "d74472e9",
   "metadata": {},
   "outputs": [
    {
     "data": {
      "text/plain": [
       "<seaborn.axisgrid.FacetGrid at 0x1662639d0>"
      ]
     },
     "execution_count": 16,
     "metadata": {},
     "output_type": "execute_result"
    },
    {
     "data": {
      "image/png": "[encoded data removed]",
      "text/plain": [
       "<Figure size 500x500 with 1 Axes>"
      ]
     },
     "metadata": {},
     "output_type": "display_data"
    }
   ],
   "source": [
    "sns.displot(df1['AveragePrice'], kde = True).set(title = \"Average Price Without Transformation\")\n",
    "\n",
    "# Almost split, but skewed right. Square root?"
   ]
  },
  {
   "cell_type": "code",
   "execution_count": 17,
   "id": "4d0f8525",
   "metadata": {},
   "outputs": [
    {
     "data": {
      "text/plain": [
       "<seaborn.axisgrid.FacetGrid at 0x1663b7fd0>"
      ]
     },
     "execution_count": 17,
     "metadata": {},
     "output_type": "execute_result"
    },
    {
     "data": {
      "image/png": "[encoded data removed]",
      "text/plain": [
       "<Figure size 500x500 with 1 Axes>"
      ]
     },
     "metadata": {},
     "output_type": "display_data"
    }
   ],
   "source": [
    "df1['AveragePriceSQRT'] = np.sqrt(df1['AveragePrice'])\n",
    "\n",
    "sns.displot(df1['AveragePriceSQRT'], kde = True).set(title=\"Average Price With Square Root Transformation\")\n",
    "\n",
    "# Probably about as normal as we can get given nearly split data. "
   ]
  },
  {
   "cell_type": "markdown",
   "id": "c65be15b",
   "metadata": {},
   "source": [
    "## Test Homogeneity of Variance on AveragePrice"
   ]
  },
  {
   "cell_type": "code",
   "execution_count": 18,
   "id": "2f7f1d24",
   "metadata": {},
   "outputs": [
    {
     "data": {
      "text/plain": [
       "BartlettResult(statistic=1924.1856080555835, pvalue=0.0)"
      ]
     },
     "execution_count": 18,
     "metadata": {},
     "output_type": "execute_result"
    }
   ],
   "source": [
    "scipy.stats.bartlett(df1['AveragePriceSQRT'], df1['region'])\n",
    "\n",
    "# Pvalue shows it's significant, so it violates the assummption of homogeneity of variance. Log better?"
   ]
  },
  {
   "cell_type": "code",
   "execution_count": 19,
   "id": "3c716455",
   "metadata": {},
   "outputs": [
    {
     "data": {
      "text/plain": [
       "<seaborn.axisgrid.FacetGrid at 0x16850f0d0>"
      ]
     },
     "execution_count": 19,
     "metadata": {},
     "output_type": "execute_result"
    },
    {
     "data": {
      "image/png": "[encoded data removed]",
      "text/plain": [
       "<Figure size 500x500 with 1 Axes>"
      ]
     },
     "metadata": {},
     "output_type": "display_data"
    }
   ],
   "source": [
    "df1['AveragePriceLOG'] = np.log(df1[\"AveragePrice\"])\n",
    "\n",
    "sns.displot(df1['AveragePriceLOG'], kde = True).set(title=\"Average Price with Log Transformation\")\n",
    "\n",
    "# Looks skewed left instead... but is the pvalue better on Barlette's?"
   ]
  },
  {
   "cell_type": "code",
   "execution_count": 20,
   "id": "def7267b",
   "metadata": {},
   "outputs": [
    {
     "data": {
      "text/plain": [
       "BartlettResult(statistic=929.626840527, pvalue=3.55972360340007e-204)"
      ]
     },
     "execution_count": 20,
     "metadata": {},
     "output_type": "execute_result"
    }
   ],
   "source": [
    "scipy.stats.bartlett(df1['AveragePriceLOG'], df1['region'])\n",
    "## Nope, not better. Assumption is not met no matter what we do.  "
   ]
  },
  {
   "cell_type": "markdown",
   "id": "279c5ed0",
   "metadata": {},
   "source": [
    "## ANOVA (ignoring that it did not meet the homogeneity of variance)"
   ]
  },
  {
   "cell_type": "code",
   "execution_count": 21,
   "id": "1be5301e",
   "metadata": {},
   "outputs": [
    {
     "data": {
      "text/plain": [
       "F_onewayResult(statistic=109.15153228173688, pvalue=1.1997829996247808e-43)"
      ]
     },
     "execution_count": 21,
     "metadata": {},
     "output_type": "execute_result"
    }
   ],
   "source": [
    "stats.f_oneway(avcdo[\"AveragePrice\"][avcdo[\"region\"]==\"Denver\"],\n",
    "              avcdo[\"AveragePrice\"][avcdo[\"region\"]==\"LosAngeles\"],\n",
    "              avcdo[\"AveragePrice\"][avcdo[\"region\"]==\"Chicago\"])"
   ]
  },
  {
   "cell_type": "markdown",
   "id": "b2002812",
   "metadata": {},
   "source": [
    "### ANOVA Analysis Interpretation\n",
    "With a pvalue basically 0, the ANOVA shows there is a significant difference in the price between those cities. \n",
    "How different? "
   ]
  },
  {
   "cell_type": "markdown",
   "id": "ee838a91",
   "metadata": {},
   "source": [
    "# Post Hoc: How different is the average price between Denver, Los Angeles, and Chicago?"
   ]
  },
  {
   "cell_type": "code",
   "execution_count": 22,
   "id": "b3c64639",
   "metadata": {},
   "outputs": [
    {
     "name": "stdout",
     "output_type": "stream",
     "text": [
      "Multiple Comparison of Means - Tukey HSD, FWER=0.05\n",
      "===================================================\n",
      "group1 group2 meandiff p-adj   lower  upper  reject\n",
      "---------------------------------------------------\n",
      "     0      1  -0.0047 0.9107 -0.0316 0.0222  False\n",
      "     0      2   0.1453    0.0  0.1184 0.1722   True\n",
      "     1      2     0.15    0.0  0.1232 0.1769   True\n",
      "---------------------------------------------------\n"
     ]
    }
   ],
   "source": [
    "postHoc= MultiComparison(df1['AveragePriceSQRT'], df1[\"region\"])\n",
    "postHocResults = postHoc.tukeyhsd()\n",
    "print(postHocResults)"
   ]
  },
  {
   "cell_type": "markdown",
   "id": "79aa901c",
   "metadata": {},
   "source": [
    "### Interpret Results on Average Price Up to This Point\n",
    "One of the regions is significantly different (accept the null hypothesis) than the other two. However, two of the regions are rather similar. \n",
    "Specifically, that is Denver and Los Angeles are rather similar. \n",
    "Chicago, differs in price greatly in comparison to Denver and Los Angeles. \n",
    "By how much? \n",
    "\n",
    "### Determine the Means and Draw Conclusions"
   ]
  },
  {
   "cell_type": "code",
   "execution_count": 23,
   "id": "ac2fb4c4",
   "metadata": {},
   "outputs": [],
   "source": [
    "df2 = df1[['region', 'AveragePrice']]\n"
   ]
  },
  {
   "cell_type": "code",
   "execution_count": 24,
   "id": "45eec14c",
   "metadata": {},
   "outputs": [
    {
     "data": {
      "text/html": [
       "<div>\n",
       "<style scoped>\n",
       "    .dataframe tbody tr th:only-of-type {\n",
       "        vertical-align: middle;\n",
       "    }\n",
       "\n",
       "    .dataframe tbody tr th {\n",
       "        vertical-align: top;\n",
       "    }\n",
       "\n",
       "    .dataframe thead th {\n",
       "        text-align: right;\n",
       "    }\n",
       "</style>\n",
       "<table border=\"1\" class=\"dataframe\">\n",
       "  <thead>\n",
       "    <tr style=\"text-align: right;\">\n",
       "      <th></th>\n",
       "      <th>AveragePrice</th>\n",
       "    </tr>\n",
       "    <tr>\n",
       "      <th>region</th>\n",
       "      <th></th>\n",
       "    </tr>\n",
       "  </thead>\n",
       "  <tbody>\n",
       "    <tr>\n",
       "      <th>0</th>\n",
       "      <td>1.218580</td>\n",
       "    </tr>\n",
       "    <tr>\n",
       "      <th>1</th>\n",
       "      <td>1.216006</td>\n",
       "    </tr>\n",
       "    <tr>\n",
       "      <th>2</th>\n",
       "      <td>1.556775</td>\n",
       "    </tr>\n",
       "  </tbody>\n",
       "</table>\n",
       "</div>"
      ],
      "text/plain": [
       "        AveragePrice\n",
       "region              \n",
       "0           1.218580\n",
       "1           1.216006\n",
       "2           1.556775"
      ]
     },
     "execution_count": 24,
     "metadata": {},
     "output_type": "execute_result"
    }
   ],
   "source": [
    "df2.groupby('region').mean()"
   ]
  },
  {
   "cell_type": "markdown",
   "id": "f4a9d07f",
   "metadata": {},
   "source": [
    "## Interpretation of the Average Price difference between Denver, Los Angeles and Chicago\n",
    "\"\"\"Chicago\"\"\" was region 2, and has a significantly higher average price than Denver and Los Angeles by about 0.34, or a 28% increase in price. For this problem, that means it would be more difficult to live the Avocado Toast Live in Chicago than in Denver or Los Angeles according to the price of Avocados. \n",
    "\n"
   ]
  },
  {
   "cell_type": "markdown",
   "id": "5f395f86",
   "metadata": {},
   "source": [
    "# Does the total volume of avocados sold differ between Denver, LosAngeles, and Chicago?"
   ]
  },
  {
   "cell_type": "markdown",
   "id": "8da56ed9",
   "metadata": {},
   "source": [
    "## Test for Normality on Total Volume"
   ]
  },
  {
   "cell_type": "code",
   "execution_count": 25,
   "id": "2184bd82",
   "metadata": {},
   "outputs": [
    {
     "data": {
      "text/plain": [
       "<seaborn.axisgrid.FacetGrid at 0x1686956f0>"
      ]
     },
     "execution_count": 25,
     "metadata": {},
     "output_type": "execute_result"
    },
    {
     "data": {
      "image/png": "[encoded data removed]",
      "text/plain": [
       "<Figure size 500x500 with 1 Axes>"
      ]
     },
     "metadata": {},
     "output_type": "display_data"
    }
   ],
   "source": [
    "sns.displot(df1['Total Volume'], kde = True).set(title=\"Total Volume Without Transformation\")\n",
    "\n",
    "## Super skewed right (positively skewed). Log?"
   ]
  },
  {
   "cell_type": "code",
   "execution_count": 26,
   "id": "231f91f4",
   "metadata": {},
   "outputs": [
    {
     "data": {
      "text/plain": [
       "<seaborn.axisgrid.FacetGrid at 0x168558070>"
      ]
     },
     "execution_count": 26,
     "metadata": {},
     "output_type": "execute_result"
    },
    {
     "data": {
      "image/png": "[encoded data removed]",
      "text/plain": [
       "<Figure size 500x500 with 1 Axes>"
      ]
     },
     "metadata": {},
     "output_type": "display_data"
    }
   ],
   "source": [
    "df1['TotalVolumeLOG'] = np.log(df1[\"Total Volume\"])\n",
    "\n",
    "sns.displot(df1['TotalVolumeLOG'], kde = True).set(title=\"Total Volume Log Transformation\")\n",
    "\n",
    "# This is so stronglly bimodal, but both bumps are centered??\n",
    "# *** NOT NORMAL, at all"
   ]
  },
  {
   "cell_type": "markdown",
   "id": "8dfa5ce1",
   "metadata": {},
   "source": [
    "## Test Total Volume for Homogeneity of Variance (even though it's not normal)"
   ]
  },
  {
   "cell_type": "code",
   "execution_count": 27,
   "id": "2d8ada88",
   "metadata": {},
   "outputs": [
    {
     "data": {
      "text/plain": [
       "BartlettResult(statistic=584.0766516187417, pvalue=4.86778439447666e-129)"
      ]
     },
     "execution_count": 27,
     "metadata": {},
     "output_type": "execute_result"
    }
   ],
   "source": [
    "scipy.stats.bartlett(df1[\"TotalVolumeLOG\"], df1[\"region\"])\n",
    "\n",
    "# Shows this is significant, so it VIOLATES the TEST OF HOMOGENEITY OF VARIANCE, but we proceed. "
   ]
  },
  {
   "cell_type": "markdown",
   "id": "c6210558",
   "metadata": {},
   "source": [
    "## ANOVA for Total Volume (ignoring that it did not meet the homogeneity test)"
   ]
  },
  {
   "cell_type": "code",
   "execution_count": 28,
   "id": "90061ee9",
   "metadata": {},
   "outputs": [
    {
     "data": {
      "text/plain": [
       "F_onewayResult(statistic=162.1456398543915, pvalue=8.375961705501693e-62)"
      ]
     },
     "execution_count": 28,
     "metadata": {},
     "output_type": "execute_result"
    }
   ],
   "source": [
    "stats.f_oneway(avcdo[\"Total Volume\"][avcdo[\"region\"]==\"Denver\"],\n",
    "              avcdo[\"Total Volume\"][avcdo[\"region\"]==\"LosAngeles\"],\n",
    "              avcdo[\"Total Volume\"][avcdo[\"region\"]==\"Chicago\"])"
   ]
  },
  {
   "cell_type": "markdown",
   "id": "8617f24c",
   "metadata": {},
   "source": [
    "### Interpretation of ANOVA on Total Volume\n",
    "This ANOVA shows there is a significant difference in the volume consumed by each city. "
   ]
  },
  {
   "cell_type": "markdown",
   "id": "7a127e31",
   "metadata": {},
   "source": [
    "## Post Hoc: How different is the total volume from these regions?"
   ]
  },
  {
   "cell_type": "code",
   "execution_count": 29,
   "id": "a74730a0",
   "metadata": {},
   "outputs": [
    {
     "name": "stdout",
     "output_type": "stream",
     "text": [
      "Multiple Comparison of Means - Tukey HSD, FWER=0.05 \n",
      "====================================================\n",
      "group1 group2 meandiff p-adj   lower   upper  reject\n",
      "----------------------------------------------------\n",
      "     0      1   1.1021    0.0  0.7888  1.4153   True\n",
      "     0      2  -0.0303 0.9719 -0.3436  0.2829  False\n",
      "     1      2  -1.1324    0.0 -1.4457 -0.8191   True\n",
      "----------------------------------------------------\n"
     ]
    }
   ],
   "source": [
    "postHoc= MultiComparison(df1['TotalVolumeLOG'], df1[\"region\"])\n",
    "postHocResults = postHoc.tukeyhsd()\n",
    "print(postHocResults)"
   ]
  },
  {
   "cell_type": "markdown",
   "id": "968c3d9e",
   "metadata": {},
   "source": [
    "### Interpretation of Post Hoc of Total Volume Up to This Point\n",
    "The volume of avocados in Denver and Los Angeles is different, as well as between Chicago and Los Angeles. \n",
    "However, the volume of avocados in Denver and Chicago is similar. \n",
    "By how much?\n",
    "\n",
    "### Determine the Means and Draw Conclusions"
   ]
  },
  {
   "cell_type": "code",
   "execution_count": 30,
   "id": "bbf8e4fe",
   "metadata": {},
   "outputs": [
    {
     "data": {
      "text/html": [
       "<div>\n",
       "<style scoped>\n",
       "    .dataframe tbody tr th:only-of-type {\n",
       "        vertical-align: middle;\n",
       "    }\n",
       "\n",
       "    .dataframe tbody tr th {\n",
       "        vertical-align: top;\n",
       "    }\n",
       "\n",
       "    .dataframe thead th {\n",
       "        text-align: right;\n",
       "    }\n",
       "</style>\n",
       "<table border=\"1\" class=\"dataframe\">\n",
       "  <thead>\n",
       "    <tr style=\"text-align: right;\">\n",
       "      <th></th>\n",
       "      <th>Total Volume</th>\n",
       "    </tr>\n",
       "    <tr>\n",
       "      <th>region</th>\n",
       "      <th></th>\n",
       "    </tr>\n",
       "  </thead>\n",
       "  <tbody>\n",
       "    <tr>\n",
       "      <th>0</th>\n",
       "      <td>410954.0</td>\n",
       "    </tr>\n",
       "    <tr>\n",
       "      <th>1</th>\n",
       "      <td>1502653.0</td>\n",
       "    </tr>\n",
       "    <tr>\n",
       "      <th>2</th>\n",
       "      <td>395569.0</td>\n",
       "    </tr>\n",
       "  </tbody>\n",
       "</table>\n",
       "</div>"
      ],
      "text/plain": [
       "        Total Volume\n",
       "region              \n",
       "0           410954.0\n",
       "1          1502653.0\n",
       "2           395569.0"
      ]
     },
     "execution_count": 30,
     "metadata": {},
     "output_type": "execute_result"
    }
   ],
   "source": [
    "df3 = df1[['region', 'Total Volume']]\n",
    "\n",
    "df3.groupby('region').mean().round()"
   ]
  },
  {
   "cell_type": "markdown",
   "id": "325b3fc6",
   "metadata": {},
   "source": [
    "### Interpretation of the Total Volume of Avocados purchased difference between Denver, Los Angeles and Chicago\n",
    "Los Angeles sold a mean volume of avocados that is nearly 4 times bigger than both Denver and Chicago. "
   ]
  },
  {
   "cell_type": "markdown",
   "id": "eae80461",
   "metadata": {},
   "source": [
    "# Is the type of avocado sold related to the cities? "
   ]
  },
  {
   "cell_type": "code",
   "execution_count": 31,
   "id": "a17a2c31",
   "metadata": {},
   "outputs": [
    {
     "data": {
      "text/html": [
       "<div>\n",
       "<style scoped>\n",
       "    .dataframe tbody tr th:only-of-type {\n",
       "        vertical-align: middle;\n",
       "    }\n",
       "\n",
       "    .dataframe tbody tr th {\n",
       "        vertical-align: top;\n",
       "    }\n",
       "\n",
       "    .dataframe thead th {\n",
       "        text-align: right;\n",
       "    }\n",
       "</style>\n",
       "<table border=\"1\" class=\"dataframe\">\n",
       "  <thead>\n",
       "    <tr style=\"text-align: right;\">\n",
       "      <th>region</th>\n",
       "      <th>0</th>\n",
       "      <th>1</th>\n",
       "      <th>2</th>\n",
       "    </tr>\n",
       "    <tr>\n",
       "      <th>type</th>\n",
       "      <th></th>\n",
       "      <th></th>\n",
       "      <th></th>\n",
       "    </tr>\n",
       "  </thead>\n",
       "  <tbody>\n",
       "    <tr>\n",
       "      <th>conventional</th>\n",
       "      <td>169</td>\n",
       "      <td>169</td>\n",
       "      <td>169</td>\n",
       "    </tr>\n",
       "    <tr>\n",
       "      <th>organic</th>\n",
       "      <td>169</td>\n",
       "      <td>169</td>\n",
       "      <td>169</td>\n",
       "    </tr>\n",
       "  </tbody>\n",
       "</table>\n",
       "</div>"
      ],
      "text/plain": [
       "region          0    1    2\n",
       "type                       \n",
       "conventional  169  169  169\n",
       "organic       169  169  169"
      ]
     },
     "execution_count": 31,
     "metadata": {},
     "output_type": "execute_result"
    }
   ],
   "source": [
    "pd.crosstab(df1.type, df1.region)\n",
    "\n",
    "# This is very boring. Nothing interesting to see here. \n",
    "# It seems this data is split perfectly between organic and conventional. \n",
    "# Running the analysis between type and price or volume would be the same analysis as was done for region. \n",
    "# Even running it in R created no different results. \n",
    "# Trying my original question about bag size and price. "
   ]
  },
  {
   "cell_type": "markdown",
   "id": "54508708",
   "metadata": {},
   "source": [
    "# Is the size of bag more common in one particular region and does that size effect the price? In other words: how are the size of bag and the region related? Is the average price of avocados in regions where larger bags are more popular lower than the population average? "
   ]
  },
  {
   "cell_type": "markdown",
   "id": "f9735131",
   "metadata": {},
   "source": [
    "#### Data Wrangling for this question"
   ]
  },
  {
   "cell_type": "code",
   "execution_count": 32,
   "id": "3909f0a8",
   "metadata": {},
   "outputs": [],
   "source": [
    "## Trying to combine the bag columns into one so it is one categorical variable.\n",
    "\n",
    "df1[\"bagsize\"] = np.nan"
   ]
  },
  {
   "cell_type": "code",
   "execution_count": 33,
   "id": "a685a025",
   "metadata": {},
   "outputs": [],
   "source": [
    "conditions = [\n",
    "    (df1['Small Bags']>= df1['Large Bags']) & (df1['Small Bags']>= df1['XLarge Bags']),\n",
    "    (df1['Large Bags']>= df1['Small Bags']) & (df1['Large Bags']>= df1['XLarge Bags']),\n",
    "    (df1['XLarge Bags']>= df1['Large Bags']) & (df1['XLarge Bags']>= df1['Small Bags'])\n",
    "]\n",
    "choices = ['Small', 'Large', 'XLarge']\n",
    "df1[\"bagsize\"] = np.select(conditions, choices, default='Neither')"
   ]
  },
  {
   "cell_type": "code",
   "execution_count": 34,
   "id": "133905a5",
   "metadata": {},
   "outputs": [
    {
     "data": {
      "text/html": [
       "<div>\n",
       "<style scoped>\n",
       "    .dataframe tbody tr th:only-of-type {\n",
       "        vertical-align: middle;\n",
       "    }\n",
       "\n",
       "    .dataframe tbody tr th {\n",
       "        vertical-align: top;\n",
       "    }\n",
       "\n",
       "    .dataframe thead th {\n",
       "        text-align: right;\n",
       "    }\n",
       "</style>\n",
       "<table border=\"1\" class=\"dataframe\">\n",
       "  <thead>\n",
       "    <tr style=\"text-align: right;\">\n",
       "      <th></th>\n",
       "      <th>Date</th>\n",
       "      <th>AveragePrice</th>\n",
       "      <th>Total Volume</th>\n",
       "      <th>4046</th>\n",
       "      <th>4225</th>\n",
       "      <th>4770</th>\n",
       "      <th>Total Bags</th>\n",
       "      <th>Small Bags</th>\n",
       "      <th>Large Bags</th>\n",
       "      <th>XLarge Bags</th>\n",
       "      <th>type</th>\n",
       "      <th>year</th>\n",
       "      <th>region</th>\n",
       "      <th>AveragePriceSQRT</th>\n",
       "      <th>AveragePriceLOG</th>\n",
       "      <th>TotalVolumeLOG</th>\n",
       "      <th>bagsize</th>\n",
       "    </tr>\n",
       "  </thead>\n",
       "  <tbody>\n",
       "    <tr>\n",
       "      <th>416</th>\n",
       "      <td>12/27/2015</td>\n",
       "      <td>0.93</td>\n",
       "      <td>661137.13</td>\n",
       "      <td>42799.00</td>\n",
       "      <td>445218.79</td>\n",
       "      <td>78378.25</td>\n",
       "      <td>94741.09</td>\n",
       "      <td>83066.75</td>\n",
       "      <td>1617.67</td>\n",
       "      <td>10056.67</td>\n",
       "      <td>conventional</td>\n",
       "      <td>2015</td>\n",
       "      <td>2</td>\n",
       "      <td>0.964365</td>\n",
       "      <td>-0.072571</td>\n",
       "      <td>13.401717</td>\n",
       "      <td>Small</td>\n",
       "    </tr>\n",
       "    <tr>\n",
       "      <th>417</th>\n",
       "      <td>12/20/2015</td>\n",
       "      <td>0.91</td>\n",
       "      <td>690669.34</td>\n",
       "      <td>35724.99</td>\n",
       "      <td>464574.15</td>\n",
       "      <td>96306.30</td>\n",
       "      <td>94063.90</td>\n",
       "      <td>76241.25</td>\n",
       "      <td>9592.65</td>\n",
       "      <td>8230.00</td>\n",
       "      <td>conventional</td>\n",
       "      <td>2015</td>\n",
       "      <td>2</td>\n",
       "      <td>0.953939</td>\n",
       "      <td>-0.094311</td>\n",
       "      <td>13.445416</td>\n",
       "      <td>Small</td>\n",
       "    </tr>\n",
       "    <tr>\n",
       "      <th>418</th>\n",
       "      <td>12/13/2015</td>\n",
       "      <td>1.07</td>\n",
       "      <td>668601.50</td>\n",
       "      <td>40380.09</td>\n",
       "      <td>451470.42</td>\n",
       "      <td>94162.53</td>\n",
       "      <td>82588.46</td>\n",
       "      <td>76829.42</td>\n",
       "      <td>5693.75</td>\n",
       "      <td>65.29</td>\n",
       "      <td>conventional</td>\n",
       "      <td>2015</td>\n",
       "      <td>2</td>\n",
       "      <td>1.034408</td>\n",
       "      <td>0.067659</td>\n",
       "      <td>13.412943</td>\n",
       "      <td>Small</td>\n",
       "    </tr>\n",
       "    <tr>\n",
       "      <th>419</th>\n",
       "      <td>12/6/2015</td>\n",
       "      <td>1.14</td>\n",
       "      <td>664020.49</td>\n",
       "      <td>53173.18</td>\n",
       "      <td>455048.11</td>\n",
       "      <td>92888.37</td>\n",
       "      <td>62910.83</td>\n",
       "      <td>62473.12</td>\n",
       "      <td>420.95</td>\n",
       "      <td>16.76</td>\n",
       "      <td>conventional</td>\n",
       "      <td>2015</td>\n",
       "      <td>2</td>\n",
       "      <td>1.067708</td>\n",
       "      <td>0.131028</td>\n",
       "      <td>13.406068</td>\n",
       "      <td>Small</td>\n",
       "    </tr>\n",
       "    <tr>\n",
       "      <th>420</th>\n",
       "      <td>11/29/2015</td>\n",
       "      <td>1.11</td>\n",
       "      <td>602481.22</td>\n",
       "      <td>42851.47</td>\n",
       "      <td>422479.32</td>\n",
       "      <td>74988.97</td>\n",
       "      <td>62161.46</td>\n",
       "      <td>61862.57</td>\n",
       "      <td>298.89</td>\n",
       "      <td>0.00</td>\n",
       "      <td>conventional</td>\n",
       "      <td>2015</td>\n",
       "      <td>2</td>\n",
       "      <td>1.053565</td>\n",
       "      <td>0.104360</td>\n",
       "      <td>13.308812</td>\n",
       "      <td>Small</td>\n",
       "    </tr>\n",
       "  </tbody>\n",
       "</table>\n",
       "</div>"
      ],
      "text/plain": [
       "           Date  AveragePrice  Total Volume      4046       4225      4770  \\\n",
       "416  12/27/2015          0.93     661137.13  42799.00  445218.79  78378.25   \n",
       "417  12/20/2015          0.91     690669.34  35724.99  464574.15  96306.30   \n",
       "418  12/13/2015          1.07     668601.50  40380.09  451470.42  94162.53   \n",
       "419   12/6/2015          1.14     664020.49  53173.18  455048.11  92888.37   \n",
       "420  11/29/2015          1.11     602481.22  42851.47  422479.32  74988.97   \n",
       "\n",
       "     Total Bags  Small Bags  Large Bags  XLarge Bags          type  year  \\\n",
       "416    94741.09    83066.75     1617.67     10056.67  conventional  2015   \n",
       "417    94063.90    76241.25     9592.65      8230.00  conventional  2015   \n",
       "418    82588.46    76829.42     5693.75        65.29  conventional  2015   \n",
       "419    62910.83    62473.12      420.95        16.76  conventional  2015   \n",
       "420    62161.46    61862.57      298.89         0.00  conventional  2015   \n",
       "\n",
       "     region  AveragePriceSQRT  AveragePriceLOG  TotalVolumeLOG bagsize  \n",
       "416       2          0.964365        -0.072571       13.401717   Small  \n",
       "417       2          0.953939        -0.094311       13.445416   Small  \n",
       "418       2          1.034408         0.067659       13.412943   Small  \n",
       "419       2          1.067708         0.131028       13.406068   Small  \n",
       "420       2          1.053565         0.104360       13.308812   Small  "
      ]
     },
     "execution_count": 34,
     "metadata": {},
     "output_type": "execute_result"
    }
   ],
   "source": [
    "df1.head()\n",
    "\n",
    "# Yes! That worked. I now have a categorical variable about bag size. "
   ]
  },
  {
   "cell_type": "code",
   "execution_count": 35,
   "id": "0fc81dd7",
   "metadata": {},
   "outputs": [
    {
     "data": {
      "text/plain": [
       "Small    785\n",
       "Large    229\n",
       "Name: bagsize, dtype: int64"
      ]
     },
     "execution_count": 35,
     "metadata": {},
     "output_type": "execute_result"
    }
   ],
   "source": [
    "df1['bagsize'].value_counts()\n",
    "## There were only 229 cases where more large size bags were sold than small, \n",
    "   ##  and no cases where there were more XLarge bags than any other bag. \n"
   ]
  },
  {
   "cell_type": "markdown",
   "id": "043cdd5a",
   "metadata": {},
   "source": [
    "# Analysis of Region & Bag Size: Do certain regions sell more bags os a certain size? Independent Chi-Square "
   ]
  },
  {
   "cell_type": "code",
   "execution_count": 36,
   "id": "0e33e77d",
   "metadata": {},
   "outputs": [
    {
     "data": {
      "text/html": [
       "<div>\n",
       "<style scoped>\n",
       "    .dataframe tbody tr th:only-of-type {\n",
       "        vertical-align: middle;\n",
       "    }\n",
       "\n",
       "    .dataframe tbody tr th {\n",
       "        vertical-align: top;\n",
       "    }\n",
       "\n",
       "    .dataframe thead th {\n",
       "        text-align: right;\n",
       "    }\n",
       "</style>\n",
       "<table border=\"1\" class=\"dataframe\">\n",
       "  <thead>\n",
       "    <tr style=\"text-align: right;\">\n",
       "      <th>bagsize</th>\n",
       "      <th>Large</th>\n",
       "      <th>Small</th>\n",
       "      <th>All</th>\n",
       "    </tr>\n",
       "    <tr>\n",
       "      <th>region</th>\n",
       "      <th></th>\n",
       "      <th></th>\n",
       "      <th></th>\n",
       "    </tr>\n",
       "  </thead>\n",
       "  <tbody>\n",
       "    <tr>\n",
       "      <th>0</th>\n",
       "      <td>223</td>\n",
       "      <td>115</td>\n",
       "      <td>338</td>\n",
       "    </tr>\n",
       "    <tr>\n",
       "      <th>1</th>\n",
       "      <td>1</td>\n",
       "      <td>337</td>\n",
       "      <td>338</td>\n",
       "    </tr>\n",
       "    <tr>\n",
       "      <th>2</th>\n",
       "      <td>5</td>\n",
       "      <td>333</td>\n",
       "      <td>338</td>\n",
       "    </tr>\n",
       "    <tr>\n",
       "      <th>All</th>\n",
       "      <td>229</td>\n",
       "      <td>785</td>\n",
       "      <td>1014</td>\n",
       "    </tr>\n",
       "  </tbody>\n",
       "</table>\n",
       "</div>"
      ],
      "text/plain": [
       "bagsize  Large  Small   All\n",
       "region                     \n",
       "0          223    115   338\n",
       "1            1    337   338\n",
       "2            5    333   338\n",
       "All        229    785  1014"
      ]
     },
     "execution_count": 36,
     "metadata": {},
     "output_type": "execute_result"
    }
   ],
   "source": [
    "pd.crosstab(df1['region'], df1['bagsize'], margins = True)\n",
    "\n",
    "#I can see in this table that Denver (region 0) had a lot more large bags than small. \n",
    "# I want to see how statistically significant that is. \n",
    "# Assumption NOT met to have at least 5 in every cell for the observed values. This will effect the analysis. "
   ]
  },
  {
   "cell_type": "code",
   "execution_count": 37,
   "id": "6daed4f5",
   "metadata": {},
   "outputs": [],
   "source": [
    "observed = pd.crosstab(df1['region'], df1['bagsize'], margins = False)"
   ]
  },
  {
   "cell_type": "code",
   "execution_count": 38,
   "id": "1db9eb6d",
   "metadata": {},
   "outputs": [
    {
     "data": {
      "text/plain": [
       "Chi2ContingencyResult(statistic=546.1549022334716, pvalue=2.5349526276617674e-119, dof=2, expected_freq=array([[ 76.33333333, 261.66666667],\n",
       "       [ 76.33333333, 261.66666667],\n",
       "       [ 76.33333333, 261.66666667]]))"
      ]
     },
     "execution_count": 38,
     "metadata": {},
     "output_type": "execute_result"
    }
   ],
   "source": [
    "scipy.stats.chi2_contingency(observed)"
   ]
  },
  {
   "cell_type": "markdown",
   "id": "f5c78a9c",
   "metadata": {},
   "source": [
    "# With a p-value of practically 0, there is a significant relationship between the size of the bag and the region the bags are sold in \n",
    "WITH the understanding that the observed values did not meet the minimum requirements, this array of expected values shows that all of the expected values DID meet the minimum requirements. The expected values show what the values would be if there were no relationship between the bag size and the region. \n",
    "I can say with confidence that\n",
    "# There is a significant relationship between the size of the bag sold and the city it was sold in. Specifically, Denver sold almost 45 times more large bags than Chicago and 223 times more bags than Los Angeles. \n",
    "\n",
    "This is interesting compared to Los Angles selling the greater volume of avocados compared to Denver by 4 times. It makes me wonder if volume considered the number of bags or the number of avocados. Also interesting to note is the number of bags in each of the cities in this study have a combined total of 338 large and small bags per city. "
   ]
  },
  {
   "cell_type": "code",
   "execution_count": 39,
   "id": "d86d9b8f",
   "metadata": {},
   "outputs": [],
   "source": [
    "\n",
    "# To be run in R: ANCOVA: Running a Covariance with Region and Bag Size on Price\n",
    "# Change my mind. I want to keep using the 'bagsize' variable already here in Python. Then, I need to install and use another package\n"
   ]
  },
  {
   "cell_type": "markdown",
   "id": "bba0041a",
   "metadata": {},
   "source": [
    "# Analysis: Is the price of avocados influenced by the region and bag size? Run an ANCOVA"
   ]
  },
  {
   "cell_type": "code",
   "execution_count": 40,
   "id": "0d8f644c",
   "metadata": {},
   "outputs": [],
   "source": [
    "from pingouin import ancova"
   ]
  },
  {
   "cell_type": "code",
   "execution_count": 41,
   "id": "57f4e1c4",
   "metadata": {},
   "outputs": [],
   "source": [
    "# I need to recode my earlier recode for bag size so it's numeric\n",
    "\n",
    "def recode(series):\n",
    "    if series == 'Small':\n",
    "        return 0\n",
    "    if series == 'Large':\n",
    "        return 1\n",
    "    \n",
    "df1['bagsizeR']= df1['bagsize'].apply(recode)"
   ]
  },
  {
   "cell_type": "code",
   "execution_count": 42,
   "id": "2c655d95",
   "metadata": {},
   "outputs": [
    {
     "data": {
      "text/html": [
       "<div>\n",
       "<style scoped>\n",
       "    .dataframe tbody tr th:only-of-type {\n",
       "        vertical-align: middle;\n",
       "    }\n",
       "\n",
       "    .dataframe tbody tr th {\n",
       "        vertical-align: top;\n",
       "    }\n",
       "\n",
       "    .dataframe thead th {\n",
       "        text-align: right;\n",
       "    }\n",
       "</style>\n",
       "<table border=\"1\" class=\"dataframe\">\n",
       "  <thead>\n",
       "    <tr style=\"text-align: right;\">\n",
       "      <th></th>\n",
       "      <th>Date</th>\n",
       "      <th>AveragePrice</th>\n",
       "      <th>Total Volume</th>\n",
       "      <th>4046</th>\n",
       "      <th>4225</th>\n",
       "      <th>4770</th>\n",
       "      <th>Total Bags</th>\n",
       "      <th>Small Bags</th>\n",
       "      <th>Large Bags</th>\n",
       "      <th>XLarge Bags</th>\n",
       "      <th>type</th>\n",
       "      <th>year</th>\n",
       "      <th>region</th>\n",
       "      <th>AveragePriceSQRT</th>\n",
       "      <th>AveragePriceLOG</th>\n",
       "      <th>TotalVolumeLOG</th>\n",
       "      <th>bagsize</th>\n",
       "      <th>bagsizeR</th>\n",
       "    </tr>\n",
       "  </thead>\n",
       "  <tbody>\n",
       "    <tr>\n",
       "      <th>416</th>\n",
       "      <td>12/27/2015</td>\n",
       "      <td>0.93</td>\n",
       "      <td>661137.13</td>\n",
       "      <td>42799.00</td>\n",
       "      <td>445218.79</td>\n",
       "      <td>78378.25</td>\n",
       "      <td>94741.09</td>\n",
       "      <td>83066.75</td>\n",
       "      <td>1617.67</td>\n",
       "      <td>10056.67</td>\n",
       "      <td>conventional</td>\n",
       "      <td>2015</td>\n",
       "      <td>2</td>\n",
       "      <td>0.964365</td>\n",
       "      <td>-0.072571</td>\n",
       "      <td>13.401717</td>\n",
       "      <td>Small</td>\n",
       "      <td>0</td>\n",
       "    </tr>\n",
       "    <tr>\n",
       "      <th>417</th>\n",
       "      <td>12/20/2015</td>\n",
       "      <td>0.91</td>\n",
       "      <td>690669.34</td>\n",
       "      <td>35724.99</td>\n",
       "      <td>464574.15</td>\n",
       "      <td>96306.30</td>\n",
       "      <td>94063.90</td>\n",
       "      <td>76241.25</td>\n",
       "      <td>9592.65</td>\n",
       "      <td>8230.00</td>\n",
       "      <td>conventional</td>\n",
       "      <td>2015</td>\n",
       "      <td>2</td>\n",
       "      <td>0.953939</td>\n",
       "      <td>-0.094311</td>\n",
       "      <td>13.445416</td>\n",
       "      <td>Small</td>\n",
       "      <td>0</td>\n",
       "    </tr>\n",
       "    <tr>\n",
       "      <th>418</th>\n",
       "      <td>12/13/2015</td>\n",
       "      <td>1.07</td>\n",
       "      <td>668601.50</td>\n",
       "      <td>40380.09</td>\n",
       "      <td>451470.42</td>\n",
       "      <td>94162.53</td>\n",
       "      <td>82588.46</td>\n",
       "      <td>76829.42</td>\n",
       "      <td>5693.75</td>\n",
       "      <td>65.29</td>\n",
       "      <td>conventional</td>\n",
       "      <td>2015</td>\n",
       "      <td>2</td>\n",
       "      <td>1.034408</td>\n",
       "      <td>0.067659</td>\n",
       "      <td>13.412943</td>\n",
       "      <td>Small</td>\n",
       "      <td>0</td>\n",
       "    </tr>\n",
       "    <tr>\n",
       "      <th>419</th>\n",
       "      <td>12/6/2015</td>\n",
       "      <td>1.14</td>\n",
       "      <td>664020.49</td>\n",
       "      <td>53173.18</td>\n",
       "      <td>455048.11</td>\n",
       "      <td>92888.37</td>\n",
       "      <td>62910.83</td>\n",
       "      <td>62473.12</td>\n",
       "      <td>420.95</td>\n",
       "      <td>16.76</td>\n",
       "      <td>conventional</td>\n",
       "      <td>2015</td>\n",
       "      <td>2</td>\n",
       "      <td>1.067708</td>\n",
       "      <td>0.131028</td>\n",
       "      <td>13.406068</td>\n",
       "      <td>Small</td>\n",
       "      <td>0</td>\n",
       "    </tr>\n",
       "    <tr>\n",
       "      <th>420</th>\n",
       "      <td>11/29/2015</td>\n",
       "      <td>1.11</td>\n",
       "      <td>602481.22</td>\n",
       "      <td>42851.47</td>\n",
       "      <td>422479.32</td>\n",
       "      <td>74988.97</td>\n",
       "      <td>62161.46</td>\n",
       "      <td>61862.57</td>\n",
       "      <td>298.89</td>\n",
       "      <td>0.00</td>\n",
       "      <td>conventional</td>\n",
       "      <td>2015</td>\n",
       "      <td>2</td>\n",
       "      <td>1.053565</td>\n",
       "      <td>0.104360</td>\n",
       "      <td>13.308812</td>\n",
       "      <td>Small</td>\n",
       "      <td>0</td>\n",
       "    </tr>\n",
       "  </tbody>\n",
       "</table>\n",
       "</div>"
      ],
      "text/plain": [
       "           Date  AveragePrice  Total Volume      4046       4225      4770  \\\n",
       "416  12/27/2015          0.93     661137.13  42799.00  445218.79  78378.25   \n",
       "417  12/20/2015          0.91     690669.34  35724.99  464574.15  96306.30   \n",
       "418  12/13/2015          1.07     668601.50  40380.09  451470.42  94162.53   \n",
       "419   12/6/2015          1.14     664020.49  53173.18  455048.11  92888.37   \n",
       "420  11/29/2015          1.11     602481.22  42851.47  422479.32  74988.97   \n",
       "\n",
       "     Total Bags  Small Bags  Large Bags  XLarge Bags          type  year  \\\n",
       "416    94741.09    83066.75     1617.67     10056.67  conventional  2015   \n",
       "417    94063.90    76241.25     9592.65      8230.00  conventional  2015   \n",
       "418    82588.46    76829.42     5693.75        65.29  conventional  2015   \n",
       "419    62910.83    62473.12      420.95        16.76  conventional  2015   \n",
       "420    62161.46    61862.57      298.89         0.00  conventional  2015   \n",
       "\n",
       "     region  AveragePriceSQRT  AveragePriceLOG  TotalVolumeLOG bagsize  \\\n",
       "416       2          0.964365        -0.072571       13.401717   Small   \n",
       "417       2          0.953939        -0.094311       13.445416   Small   \n",
       "418       2          1.034408         0.067659       13.412943   Small   \n",
       "419       2          1.067708         0.131028       13.406068   Small   \n",
       "420       2          1.053565         0.104360       13.308812   Small   \n",
       "\n",
       "     bagsizeR  \n",
       "416         0  \n",
       "417         0  \n",
       "418         0  \n",
       "419         0  \n",
       "420         0  "
      ]
     },
     "execution_count": 42,
     "metadata": {},
     "output_type": "execute_result"
    }
   ],
   "source": [
    "## Reminding myself of the column names and making sure the re-recode worked. \n",
    "df1.head()"
   ]
  },
  {
   "cell_type": "code",
   "execution_count": 43,
   "id": "5fead2a4",
   "metadata": {},
   "outputs": [
    {
     "ename": "SyntaxError",
     "evalue": "invalid syntax (1356126895.py, line 1)",
     "output_type": "error",
     "traceback": [
      "\u001b[0;36m  Cell \u001b[0;32mIn [43], line 1\u001b[0;36m\u001b[0m\n\u001b[0;31m    Looking at it both ways: Region with bagsize as the covariate and bag size with\u001b[0m\n\u001b[0m            ^\u001b[0m\n\u001b[0;31mSyntaxError\u001b[0m\u001b[0;31m:\u001b[0m invalid syntax\n"
     ]
    }
   ],
   "source": [
    "Looking at it both ways: Region with bagsize as the covariate and bag size with"
   ]
  },
  {
   "cell_type": "code",
   "execution_count": 44,
   "id": "1f5a4551",
   "metadata": {},
   "outputs": [
    {
     "data": {
      "text/html": [
       "<div>\n",
       "<style scoped>\n",
       "    .dataframe tbody tr th:only-of-type {\n",
       "        vertical-align: middle;\n",
       "    }\n",
       "\n",
       "    .dataframe tbody tr th {\n",
       "        vertical-align: top;\n",
       "    }\n",
       "\n",
       "    .dataframe thead th {\n",
       "        text-align: right;\n",
       "    }\n",
       "</style>\n",
       "<table border=\"1\" class=\"dataframe\">\n",
       "  <thead>\n",
       "    <tr style=\"text-align: right;\">\n",
       "      <th></th>\n",
       "      <th>Source</th>\n",
       "      <th>SS</th>\n",
       "      <th>DF</th>\n",
       "      <th>F</th>\n",
       "      <th>p-unc</th>\n",
       "      <th>np2</th>\n",
       "    </tr>\n",
       "  </thead>\n",
       "  <tbody>\n",
       "    <tr>\n",
       "      <th>0</th>\n",
       "      <td>region</td>\n",
       "      <td>20.192649</td>\n",
       "      <td>2</td>\n",
       "      <td>86.694494</td>\n",
       "      <td>1.790170e-35</td>\n",
       "      <td>0.146519</td>\n",
       "    </tr>\n",
       "    <tr>\n",
       "      <th>1</th>\n",
       "      <td>bagsizeR</td>\n",
       "      <td>2.650164</td>\n",
       "      <td>1</td>\n",
       "      <td>22.756268</td>\n",
       "      <td>2.109572e-06</td>\n",
       "      <td>0.022035</td>\n",
       "    </tr>\n",
       "    <tr>\n",
       "      <th>2</th>\n",
       "      <td>Residual</td>\n",
       "      <td>117.623247</td>\n",
       "      <td>1010</td>\n",
       "      <td>NaN</td>\n",
       "      <td>NaN</td>\n",
       "      <td>NaN</td>\n",
       "    </tr>\n",
       "  </tbody>\n",
       "</table>\n",
       "</div>"
      ],
      "text/plain": [
       "     Source          SS    DF          F         p-unc       np2\n",
       "0    region   20.192649     2  86.694494  1.790170e-35  0.146519\n",
       "1  bagsizeR    2.650164     1  22.756268  2.109572e-06  0.022035\n",
       "2  Residual  117.623247  1010        NaN           NaN       NaN"
      ]
     },
     "execution_count": 44,
     "metadata": {},
     "output_type": "execute_result"
    }
   ],
   "source": [
    "ancova(data=df1, dv=\"AveragePrice\", covar='bagsizeR', between='region')"
   ]
  },
  {
   "cell_type": "markdown",
   "id": "bed7f207",
   "metadata": {},
   "source": [
    "In this table we can see the p-value in \"p-unc\" (uncorrected p-value) for both is way less than 0.05, so we can reject the null hypothesis that they are the same, even accounting for the size of bags sold, there IS a difference in the region and the price. \n",
    "\n",
    "Looking at it in a different way..."
   ]
  },
  {
   "cell_type": "code",
   "execution_count": 45,
   "id": "fde59218",
   "metadata": {},
   "outputs": [
    {
     "data": {
      "text/html": [
       "<div>\n",
       "<style scoped>\n",
       "    .dataframe tbody tr th:only-of-type {\n",
       "        vertical-align: middle;\n",
       "    }\n",
       "\n",
       "    .dataframe tbody tr th {\n",
       "        vertical-align: top;\n",
       "    }\n",
       "\n",
       "    .dataframe thead th {\n",
       "        text-align: right;\n",
       "    }\n",
       "</style>\n",
       "<table border=\"1\" class=\"dataframe\">\n",
       "  <thead>\n",
       "    <tr style=\"text-align: right;\">\n",
       "      <th></th>\n",
       "      <th>Source</th>\n",
       "      <th>SS</th>\n",
       "      <th>DF</th>\n",
       "      <th>F</th>\n",
       "      <th>p-unc</th>\n",
       "      <th>np2</th>\n",
       "    </tr>\n",
       "  </thead>\n",
       "  <tbody>\n",
       "    <tr>\n",
       "      <th>0</th>\n",
       "      <td>bagsizeR</td>\n",
       "      <td>0.029970</td>\n",
       "      <td>1</td>\n",
       "      <td>0.238800</td>\n",
       "      <td>6.251804e-01</td>\n",
       "      <td>0.000236</td>\n",
       "    </tr>\n",
       "    <tr>\n",
       "      <th>1</th>\n",
       "      <td>region</td>\n",
       "      <td>10.931625</td>\n",
       "      <td>1</td>\n",
       "      <td>87.101997</td>\n",
       "      <td>6.335149e-20</td>\n",
       "      <td>0.079320</td>\n",
       "    </tr>\n",
       "    <tr>\n",
       "      <th>2</th>\n",
       "      <td>Residual</td>\n",
       "      <td>126.884271</td>\n",
       "      <td>1011</td>\n",
       "      <td>NaN</td>\n",
       "      <td>NaN</td>\n",
       "      <td>NaN</td>\n",
       "    </tr>\n",
       "  </tbody>\n",
       "</table>\n",
       "</div>"
      ],
      "text/plain": [
       "     Source          SS    DF          F         p-unc       np2\n",
       "0  bagsizeR    0.029970     1   0.238800  6.251804e-01  0.000236\n",
       "1    region   10.931625     1  87.101997  6.335149e-20  0.079320\n",
       "2  Residual  126.884271  1011        NaN           NaN       NaN"
      ]
     },
     "execution_count": 45,
     "metadata": {},
     "output_type": "execute_result"
    }
   ],
   "source": [
    "ancova(data=df1, dv=\"AveragePrice\", covar='region', between='bagsizeR')"
   ]
  },
  {
   "cell_type": "markdown",
   "id": "cfe939df",
   "metadata": {},
   "source": [
    "So even looking at it another way, accounting for the region, there is a difference in the price, but not as much in the bag price. That is not a significant factor. Interesting. "
   ]
  },
  {
   "cell_type": "code",
   "execution_count": null,
   "id": "de59e36c",
   "metadata": {},
   "outputs": [],
   "source": []
  }
 ],
 "metadata": {
  "kernelspec": {
   "display_name": "Python 3 (ipykernel)",
   "language": "python",
   "name": "python3"
  },
  "language_info": {
   "codemirror_mode": {
    "name": "ipython",
    "version": 3
   },
   "file_extension": ".py",
   "mimetype": "text/x-python",
   "name": "python",
   "nbconvert_exporter": "python",
   "pygments_lexer": "ipython3",
   "version": "3.10.9"
  }
 },
 "nbformat": 4,
 "nbformat_minor": 5
}
